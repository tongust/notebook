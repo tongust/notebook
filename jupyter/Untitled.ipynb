{
 "cells": [
  {
   "cell_type": "markdown",
   "metadata": {},
   "source": [
    "SGD迭代的方式为：\n",
    "$$\n",
    "For\\ a\\ training\\ example\\ x^{(i)}\\in \\mathbb{R^{p}}\\\\\n",
    "\\ \\\\\n",
    "W^{new} = W^{old}-\\alpha (\\begin{bmatrix}\n",
    "1-2sig(w_1^Tx^{(i)})\\\\\n",
    "1-2sig(w_2^Tx^{(i)})\\\\\n",
    "......\\\\\n",
    "1-2sig(w_p^Tx^{(i)})\\\\\n",
    "\\end{bmatrix}(x^{(i)})^T+(W^T)^{-1})\\\\\n",
    "\\ \\\\\n",
    "where \\ \\alpha \\gt 0\\\\\n",
    "$$"
   ]
  }
 ],
 "metadata": {
  "kernelspec": {
   "display_name": "Python 2",
   "language": "python",
   "name": "python2"
  },
  "language_info": {
   "codemirror_mode": {
    "name": "ipython",
    "version": 2
   },
   "file_extension": ".py",
   "mimetype": "text/x-python",
   "name": "python",
   "nbconvert_exporter": "python",
   "pygments_lexer": "ipython2",
   "version": "2.7.12"
  }
 },
 "nbformat": 4,
 "nbformat_minor": 2
}
